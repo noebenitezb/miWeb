{
  "cells": [
    {
      "cell_type": "markdown",
      "metadata": {
        "id": "view-in-github",
        "colab_type": "text"
      },
      "source": [
        "<a href=\"https://colab.research.google.com/github/noebenitezb/miWeb/blob/master/Excersises%20technical%20test.ipynb\" target=\"_parent\"><img src=\"https://colab.research.google.com/assets/colab-badge.svg\" alt=\"Open In Colab\"/></a>"
      ]
    },
    {
      "cell_type": "code",
      "source": [
        "#fish and baits\n",
        "def solution(fishes, baits):\n",
        "  totalFishperBait = 0\n",
        "  countFish = 0\n",
        "  idxb = 0\n",
        "  for i in fishes:\n",
        "    if i > baits[idxb] and totalFishperBait <= 2:\n",
        "      countFish += 1\n",
        "      totalFishperBait += 1\n",
        "\n",
        "      if totalFishperBait == 3:\n",
        "        totalFishperBait = 0\n",
        "        idxb +=1\n",
        "\n",
        "        if idxb == len(baits):\n",
        "          break\n",
        "\n",
        "\n",
        "  return countFish"
      ],
      "metadata": {
        "id": "aiXWirn2TTqu"
      },
      "execution_count": null,
      "outputs": []
    },
    {
      "cell_type": "code",
      "source": [
        "print(solution([1,2,3,1,1,1], [0,1]))"
      ],
      "metadata": {
        "id": "5nO12-gHY-4X",
        "outputId": "d4d9bcbd-adaf-409a-ee57-089a0fef9374",
        "colab": {
          "base_uri": "https://localhost:8080/"
        }
      },
      "execution_count": null,
      "outputs": [
        {
          "output_type": "stream",
          "name": "stdout",
          "text": [
            "3\n"
          ]
        }
      ]
    },
    {
      "cell_type": "code",
      "source": [
        "!pip install bcrypt"
      ],
      "metadata": {
        "id": "wtPe0Iy_Phy-",
        "outputId": "eda3bee6-2f39-49bd-d31e-e8ca353d6046",
        "colab": {
          "base_uri": "https://localhost:8080/"
        }
      },
      "execution_count": 1,
      "outputs": [
        {
          "output_type": "stream",
          "name": "stdout",
          "text": [
            "Collecting bcrypt\n",
            "  Downloading bcrypt-4.3.0-cp39-abi3-manylinux_2_34_x86_64.whl.metadata (10 kB)\n",
            "Downloading bcrypt-4.3.0-cp39-abi3-manylinux_2_34_x86_64.whl (284 kB)\n",
            "\u001b[2K   \u001b[90m━━━━━━━━━━━━━━━━━━━━━━━━━━━━━━━━━━━━━━━━\u001b[0m \u001b[32m284.2/284.2 kB\u001b[0m \u001b[31m5.7 MB/s\u001b[0m eta \u001b[36m0:00:00\u001b[0m\n",
            "\u001b[?25hInstalling collected packages: bcrypt\n",
            "Successfully installed bcrypt-4.3.0\n"
          ]
        }
      ]
    },
    {
      "cell_type": "code",
      "source": [
        "import bcrypt\n",
        "\n",
        "def get_password_hash(password)-> str:\n",
        "    \"\"\"\n",
        "    Genera un hash seguro de la contraseña proporcionada\n",
        "    \"\"\"\n",
        "    #Primero generar una sal aleatoria\n",
        "    salt = bcrypt.gensalt()\n",
        "    #Luego, generar el hash de la contraseña utilizando la sal\n",
        "    hashed_password = bcrypt.hashpw(password.encode('utf-8'), salt)\n",
        "    #Devolver el hash como una cadena\n",
        "    return hashed_password.decode('utf-8')"
      ],
      "metadata": {
        "id": "hc2TbgibPk73"
      },
      "execution_count": 3,
      "outputs": []
    },
    {
      "cell_type": "code",
      "source": [
        "password = \"mi_contraseña_secreta\"\n",
        "hashed_password = get_password_hash(password)\n",
        "print(f\"Contraseña original: {password}\")\n",
        "print(f\"Hash de la contraseña: {hashed_password}\")"
      ],
      "metadata": {
        "id": "vLFrY_aWQJd-",
        "outputId": "1717d70c-f380-4e1d-f6a1-1d22bc17f95b",
        "colab": {
          "base_uri": "https://localhost:8080/"
        }
      },
      "execution_count": 4,
      "outputs": [
        {
          "output_type": "stream",
          "name": "stdout",
          "text": [
            "Contraseña original: mi_contraseña_secreta\n",
            "Hash de la contraseña: $2b$12$iZwiwLNxuCX3MIxzMc1OS.UNHnqaBTmsGDaW9sAliyoAuC5PbiQ1u\n"
          ]
        }
      ]
    }
  ],
  "metadata": {
    "colab": {
      "name": "Welcome To Colab",
      "toc_visible": true,
      "provenance": [],
      "include_colab_link": true
    },
    "kernelspec": {
      "display_name": "Python 3",
      "name": "python3"
    }
  },
  "nbformat": 4,
  "nbformat_minor": 0
}