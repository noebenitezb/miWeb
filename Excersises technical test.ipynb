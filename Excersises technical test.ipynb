{
  "cells": [
    {
      "cell_type": "markdown",
      "metadata": {
        "id": "view-in-github",
        "colab_type": "text"
      },
      "source": [
        "<a href=\"https://colab.research.google.com/github/noebenitezb/miWeb/blob/master/Excersises%20technical%20test.ipynb\" target=\"_parent\"><img src=\"https://colab.research.google.com/assets/colab-badge.svg\" alt=\"Open In Colab\"/></a>"
      ]
    },
    {
      "cell_type": "code",
      "source": [
        "#fish and baits\n",
        "def solution(fishes, baits):\n",
        "  totalFishperBait = 0\n",
        "  countFish = 0\n",
        "  idxb = 0\n",
        "  for i in fishes:\n",
        "    if i > baits[idxb] and totalFishperBait <= 2:\n",
        "      countFish += 1\n",
        "      totalFishperBait += 1\n",
        "\n",
        "      if totalFishperBait == 3:\n",
        "        totalFishperBait = 0\n",
        "        idxb +=1\n",
        "\n",
        "        if idxb == len(baits):\n",
        "          break\n",
        "\n",
        "\n",
        "  return countFish"
      ],
      "metadata": {
        "id": "aiXWirn2TTqu"
      },
      "execution_count": 199,
      "outputs": []
    },
    {
      "cell_type": "code",
      "source": [
        "print(solution([1,2,3,1,1,1], [0,1]))"
      ],
      "metadata": {
        "id": "5nO12-gHY-4X",
        "outputId": "d4d9bcbd-adaf-409a-ee57-089a0fef9374",
        "colab": {
          "base_uri": "https://localhost:8080/"
        }
      },
      "execution_count": 201,
      "outputs": [
        {
          "output_type": "stream",
          "name": "stdout",
          "text": [
            "3\n"
          ]
        }
      ]
    }
  ],
  "metadata": {
    "colab": {
      "name": "Welcome To Colab",
      "toc_visible": true,
      "provenance": [],
      "include_colab_link": true
    },
    "kernelspec": {
      "display_name": "Python 3",
      "name": "python3"
    }
  },
  "nbformat": 4,
  "nbformat_minor": 0
}